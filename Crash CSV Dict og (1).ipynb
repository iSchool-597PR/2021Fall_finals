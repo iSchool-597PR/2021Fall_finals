{
 "cells": [
  {
   "cell_type": "code",
   "execution_count": 1,
   "metadata": {},
   "outputs": [],
   "source": [
    "import analysis as a"
   ]
  },
  {
   "cell_type": "code",
   "execution_count": 2,
   "metadata": {},
   "outputs": [
    {
     "data": {
      "text/plain": [
       "States                Alabama\n",
       "Fatalities in 2010        848\n",
       "Fatalities in 2011        862\n",
       "% Change                    2\n",
       "Name: 4, dtype: object"
      ]
     },
     "execution_count": 2,
     "metadata": {},
     "output_type": "execute_result"
    }
   ],
   "source": [
    "import pandas as pd\n",
    "from matplotlib import pyplot as plt\n",
    "df = pd.DataFrame()\n",
    "import pandas \n",
    "\n",
    "dataframes_list = []\n",
    "for year in range(2010,2020):\n",
    "    crash = a.read_file(year, \"CRASH\")\n",
    "    crash = crash.drop([0,1,2,3,59,58,57])\n",
    "    crash = crash.rename(columns = {\"Table 106\": \"States\", \"Unnamed: 1\": \"Fatalities in %s\" %(year), \n",
    "                                \"Unnamed: 2\": \"Fatalities in %s\" %(year+1),\n",
    "                            \"Unnamed: 3\": \"% Change\"})\n",
    "\n",
    "    dataframes_list.append(crash) \n",
    "states= dataframes_list[1][\"States\"].tolist()\n",
    "# states\n",
    "dataframes_list[0].iloc[0]"
   ]
  },
  {
   "cell_type": "code",
   "execution_count": 3,
   "metadata": {},
   "outputs": [],
   "source": [
    "new_dict = {new_list: [] for new_list in states}\n",
    "for i in range(10):\n",
    "    l=0\n",
    "    for item in states:\n",
    "        new_dict[item].append(dataframes_list[i].iloc[l][2])\n",
    "        l+=1\n",
    "        \n",
    "        \n",
    "m=new_dict[\"Alabama\"]\n",
    "year = 2010\n",
    "updated_year_dict = {}\n",
    "if year<=2019:\n",
    "    for values in new_dict[\"California\"]:\n",
    "        updated_year_dict[year] = values\n",
    "        year+=1"
   ]
  },
  {
   "cell_type": "code",
   "execution_count": 4,
   "metadata": {},
   "outputs": [
    {
     "data": {
      "image/png": "[encoded data removed]",
      "text/plain": [
       "<Figure size 432x288 with 1 Axes>"
      ]
     },
     "metadata": {
      "needs_background": "light"
     },
     "output_type": "display_data"
    }
   ],
   "source": [
    "# year_yax = updated_year_dict.keys()\n",
    "# plt.rcdefaults()\n",
    "# fig, ax = plt.subplots()\n",
    "# values = str(updated_year_dict.values())\n",
    "# ax.barh(year_yax, values)\n",
    "\n",
    "names = list(updated_year_dict.keys())\n",
    "values = list(updated_year_dict.values())\n",
    "values = []\n",
    "for keys in updated_year_dict:\n",
    "        updated_year_dict[keys] = int(updated_year_dict[keys].replace(',', ''))\n",
    "        values.append(updated_year_dict[keys])\n",
    "plt.bar(range(len(updated_year_dict)), values, tick_label=names)\n",
    "plt.show()\n",
    "\n",
    "# for item in updated_year_dict:\n",
    "#     for key, value in item.iteritems():\n",
    "#         try:\n",
    "#             item[key] = int(value)\n",
    "#         except ValueError:\n",
    "#             item[key] = float(value)"
   ]
  }
 ],
 "metadata": {
  "kernelspec": {
   "display_name": "Python 3",
   "language": "python",
   "name": "python3"
  },
  "language_info": {
   "codemirror_mode": {
    "name": "ipython",
    "version": 3
   },
   "file_extension": ".py",
   "mimetype": "text/x-python",
   "name": "python",
   "nbconvert_exporter": "python",
   "pygments_lexer": "ipython3",
   "version": "3.7.4"
  }
 },
 "nbformat": 4,
 "nbformat_minor": 4
}
