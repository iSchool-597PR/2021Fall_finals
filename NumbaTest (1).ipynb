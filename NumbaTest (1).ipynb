{
 "cells": [
  {
   "cell_type": "code",
   "execution_count": 2,
   "id": "ca403c3d",
   "metadata": {},
   "outputs": [],
   "source": [
    "from numba import njit, jit\n",
    "import pandas as pd\n",
    "@njit\n",
    "def values(df):\n",
    "    \"\"\"\n",
    "    This function takes a dataframe as input and returns a dictionary of the values.\n",
    "    :param df: dataframe fromwhihc values will be extracted into a dictionary\n",
    "    :return total_killed: retrns a dictionary with values to be plotted in fucntion plotpie()\n",
    "    \"\"\"\n",
    "    total_killed = {}\n",
    "    for index, row in df.iterrows():\n",
    "        if (row['Vehicle Type'] != 'Total') and (row['Person Type'] == 'Subtotal'):\n",
    "            total_killed[row['Vehicle Type']] = row['Occupants Killed']\n",
    "        elif ((row['Vehicle Type'] == 'Motorcyclists' or row['Vehicle Type'] == 'Nonoccupants') and (\n",
    "                row['Person Type'] == 'Total')):\n",
    "            total_killed[row['Vehicle Type']] = row['Occupants Killed']\n",
    "        else:\n",
    "            continue\n",
    "    return total_killed"
   ]
  },
  {
   "cell_type": "code",
   "execution_count": 5,
   "id": "9fd98db7",
   "metadata": {},
   "outputs": [
    {
     "ename": "TypingError",
     "evalue": "Failed in nopython mode pipeline (step: nopython frontend)\n\u001b[1m\u001b[1mnon-precise type pyobject\u001b[0m\n\u001b[0m\u001b[1mDuring: typing of argument at C:\\Users\\Dell\\AppData\\Local\\Temp/ipykernel_15964/2584560797.py (10)\u001b[0m\n\u001b[1m\nFile \"..\\AppData\\Local\\Temp\\ipykernel_15964\\2584560797.py\", line 10:\u001b[0m\n\u001b[1m<source missing, REPL/exec in use?>\u001b[0m \n\nThis error may have been caused by the following argument(s):\n- argument 0: \u001b[1mCannot determine Numba type of <class 'pandas.core.frame.DataFrame'>\u001b[0m\n",
     "output_type": "error",
     "traceback": [
      "\u001b[1;31m---------------------------------------------------------------------------\u001b[0m",
      "\u001b[1;31mTypingError\u001b[0m                               Traceback (most recent call last)",
      "\u001b[1;32m~\\AppData\\Local\\Temp/ipykernel_15964/3724888680.py\u001b[0m in \u001b[0;36m<module>\u001b[1;34m\u001b[0m\n\u001b[0;32m     13\u001b[0m             \u001b[0mdf1\u001b[0m\u001b[1;33m.\u001b[0m\u001b[0mcolumns\u001b[0m\u001b[1;33m=\u001b[0m\u001b[1;33m[\u001b[0m\u001b[1;34m'Vehicle Type'\u001b[0m\u001b[1;33m,\u001b[0m \u001b[1;34m'Person Type'\u001b[0m\u001b[1;33m,\u001b[0m \u001b[1;34m'Occupants Killed'\u001b[0m\u001b[1;33m]\u001b[0m\u001b[1;33m\u001b[0m\u001b[1;33m\u001b[0m\u001b[0m\n\u001b[0;32m     14\u001b[0m             \u001b[0mdf\u001b[0m \u001b[1;33m=\u001b[0m \u001b[0mpd\u001b[0m\u001b[1;33m.\u001b[0m\u001b[0mconcat\u001b[0m\u001b[1;33m(\u001b[0m\u001b[1;33m[\u001b[0m\u001b[0mdf\u001b[0m\u001b[1;33m,\u001b[0m\u001b[0mdf1\u001b[0m\u001b[1;33m]\u001b[0m\u001b[1;33m,\u001b[0m \u001b[0maxis\u001b[0m\u001b[1;33m=\u001b[0m\u001b[1;36m0\u001b[0m\u001b[1;33m)\u001b[0m\u001b[1;33m\u001b[0m\u001b[1;33m\u001b[0m\u001b[0m\n\u001b[1;32m---> 15\u001b[1;33m             \u001b[0mtotal_killed\u001b[0m \u001b[1;33m=\u001b[0m \u001b[0mvalues\u001b[0m\u001b[1;33m(\u001b[0m\u001b[0mdf\u001b[0m\u001b[1;33m)\u001b[0m\u001b[1;33m\u001b[0m\u001b[1;33m\u001b[0m\u001b[0m\n\u001b[0m\u001b[0;32m     16\u001b[0m             \u001b[0mtotal_killed\u001b[0m\u001b[1;33m[\u001b[0m\u001b[1;34m'Large-Truck, Bus, and Other Vehicle Occupants'\u001b[0m\u001b[1;33m]\u001b[0m \u001b[1;33m=\u001b[0m \u001b[0mtotal_killed\u001b[0m\u001b[1;33m[\u001b[0m\u001b[1;34m'Large Truck'\u001b[0m\u001b[1;33m]\u001b[0m\u001b[1;33m+\u001b[0m\u001b[0mtotal_killed\u001b[0m\u001b[1;33m[\u001b[0m\u001b[1;34m'Bus'\u001b[0m\u001b[1;33m]\u001b[0m\u001b[1;33m+\u001b[0m \u001b[0mtotal_killed\u001b[0m\u001b[1;33m[\u001b[0m\u001b[1;34m'Other/Unknown\\nVehicle'\u001b[0m\u001b[1;33m]\u001b[0m\u001b[1;33m\u001b[0m\u001b[1;33m\u001b[0m\u001b[0m\n\u001b[0;32m     17\u001b[0m             \u001b[1;32mdel\u001b[0m \u001b[0mtotal_killed\u001b[0m\u001b[1;33m[\u001b[0m\u001b[1;34m'Large Truck'\u001b[0m\u001b[1;33m]\u001b[0m\u001b[1;33m,\u001b[0m \u001b[0mtotal_killed\u001b[0m\u001b[1;33m[\u001b[0m\u001b[1;34m'Bus'\u001b[0m\u001b[1;33m]\u001b[0m\u001b[1;33m,\u001b[0m\u001b[0mtotal_killed\u001b[0m\u001b[1;33m[\u001b[0m\u001b[1;34m'Other/Unknown\\nVehicle'\u001b[0m\u001b[1;33m]\u001b[0m\u001b[1;33m\u001b[0m\u001b[1;33m\u001b[0m\u001b[0m\n",
      "\u001b[1;32m~\\anaconda3\\envs\\my_env\\lib\\site-packages\\numba\\core\\dispatcher.py\u001b[0m in \u001b[0;36m_compile_for_args\u001b[1;34m(self, *args, **kws)\u001b[0m\n\u001b[0;32m    480\u001b[0m                 \u001b[0me\u001b[0m\u001b[1;33m.\u001b[0m\u001b[0mpatch_message\u001b[0m\u001b[1;33m(\u001b[0m\u001b[0mmsg\u001b[0m\u001b[1;33m)\u001b[0m\u001b[1;33m\u001b[0m\u001b[1;33m\u001b[0m\u001b[0m\n\u001b[0;32m    481\u001b[0m \u001b[1;33m\u001b[0m\u001b[0m\n\u001b[1;32m--> 482\u001b[1;33m             \u001b[0merror_rewrite\u001b[0m\u001b[1;33m(\u001b[0m\u001b[0me\u001b[0m\u001b[1;33m,\u001b[0m \u001b[1;34m'typing'\u001b[0m\u001b[1;33m)\u001b[0m\u001b[1;33m\u001b[0m\u001b[1;33m\u001b[0m\u001b[0m\n\u001b[0m\u001b[0;32m    483\u001b[0m         \u001b[1;32mexcept\u001b[0m \u001b[0merrors\u001b[0m\u001b[1;33m.\u001b[0m\u001b[0mUnsupportedError\u001b[0m \u001b[1;32mas\u001b[0m \u001b[0me\u001b[0m\u001b[1;33m:\u001b[0m\u001b[1;33m\u001b[0m\u001b[1;33m\u001b[0m\u001b[0m\n\u001b[0;32m    484\u001b[0m             \u001b[1;31m# Something unsupported is present in the user code, add help info\u001b[0m\u001b[1;33m\u001b[0m\u001b[1;33m\u001b[0m\u001b[0m\n",
      "\u001b[1;32m~\\anaconda3\\envs\\my_env\\lib\\site-packages\\numba\\core\\dispatcher.py\u001b[0m in \u001b[0;36merror_rewrite\u001b[1;34m(e, issue_type)\u001b[0m\n\u001b[0;32m    421\u001b[0m                 \u001b[1;32mraise\u001b[0m \u001b[0me\u001b[0m\u001b[1;33m\u001b[0m\u001b[1;33m\u001b[0m\u001b[0m\n\u001b[0;32m    422\u001b[0m             \u001b[1;32melse\u001b[0m\u001b[1;33m:\u001b[0m\u001b[1;33m\u001b[0m\u001b[1;33m\u001b[0m\u001b[0m\n\u001b[1;32m--> 423\u001b[1;33m                 \u001b[1;32mraise\u001b[0m \u001b[0me\u001b[0m\u001b[1;33m.\u001b[0m\u001b[0mwith_traceback\u001b[0m\u001b[1;33m(\u001b[0m\u001b[1;32mNone\u001b[0m\u001b[1;33m)\u001b[0m\u001b[1;33m\u001b[0m\u001b[1;33m\u001b[0m\u001b[0m\n\u001b[0m\u001b[0;32m    424\u001b[0m \u001b[1;33m\u001b[0m\u001b[0m\n\u001b[0;32m    425\u001b[0m         \u001b[0margtypes\u001b[0m \u001b[1;33m=\u001b[0m \u001b[1;33m[\u001b[0m\u001b[1;33m]\u001b[0m\u001b[1;33m\u001b[0m\u001b[1;33m\u001b[0m\u001b[0m\n",
      "\u001b[1;31mTypingError\u001b[0m: Failed in nopython mode pipeline (step: nopython frontend)\n\u001b[1m\u001b[1mnon-precise type pyobject\u001b[0m\n\u001b[0m\u001b[1mDuring: typing of argument at C:\\Users\\Dell\\AppData\\Local\\Temp/ipykernel_15964/2584560797.py (10)\u001b[0m\n\u001b[1m\nFile \"..\\AppData\\Local\\Temp\\ipykernel_15964\\2584560797.py\", line 10:\u001b[0m\n\u001b[1m<source missing, REPL/exec in use?>\u001b[0m \n\nThis error may have been caused by the following argument(s):\n- argument 0: \u001b[1mCannot determine Numba type of <class 'pandas.core.frame.DataFrame'>\u001b[0m\n"
     ]
    }
   ],
   "source": [
    "xlfile=[\"data/2010/TSF_Table_65.xlsx\", \"data/2019/TSF_Table_65.xlsx\"]\n",
    "xlfile1 = [\"data/2010/TSF_Table_54.xlsx\", \"data/2019/TSF_Table_54.xlsx\"]\n",
    "\n",
    "for i in range(len(xlfile)):\n",
    "    df = pd.read_excel(xlfile[i],engine='openpyxl', header=4, usecols=['Unnamed: 1', 'Unnamed: 2', 'Unnamed: 3'])\n",
    "    df.fillna(method='ffill', inplace=True)\n",
    "    df.columns=['Vehicle Type', 'Person Type', 'Occupants Killed']\n",
    "#     print(df)\n",
    "    for j in range(len(xlfile1)):\n",
    "        if i==j:\n",
    "            df1 = pd.read_excel(xlfile1[j],engine='openpyxl', header=4, usecols=['Unnamed: 0', 'Unnamed: 1', 'Unnamed: 2'])\n",
    "            df1.fillna(method='ffill', inplace=True)\n",
    "            df1.columns=['Vehicle Type', 'Person Type', 'Occupants Killed']\n",
    "            df = pd.concat([df,df1], axis=0)\n",
    "            total_killed = values(df)\n",
    "            total_killed['Large-Truck, Bus, and Other Vehicle Occupants'] = total_killed['Large Truck']+total_killed['Bus']+ total_killed['Other/Unknown\\nVehicle']\n",
    "            del total_killed['Large Truck'], total_killed['Bus'],total_killed['Other/Unknown\\nVehicle']\n",
    "            year=xlfile[i][5:9]\n",
    "            plotpie(total_killed, year)"
   ]
  },
  {
   "cell_type": "markdown",
   "id": "e60f6cf7",
   "metadata": {},
   "source": [
    "### We tried incorporating Numba into our project, but we did not find any real use case for it. Though we tried using it for this particular function we seemed to get an error which we were not able to resolve\n"
   ]
  },
  {
   "cell_type": "code",
   "execution_count": null,
   "id": "34ae6608",
   "metadata": {},
   "outputs": [],
   "source": []
  }
 ],
 "metadata": {
  "kernelspec": {
   "display_name": "Python [conda env:my_env]",
   "language": "python",
   "name": "conda-env-my_env-py"
  },
  "language_info": {
   "codemirror_mode": {
    "name": "ipython",
    "version": 3
   },
   "file_extension": ".py",
   "mimetype": "text/x-python",
   "name": "python",
   "nbconvert_exporter": "python",
   "pygments_lexer": "ipython3",
   "version": "3.9.7"
  }
 },
 "nbformat": 4,
 "nbformat_minor": 5
}
