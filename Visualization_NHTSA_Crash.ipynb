{
 "cells": [
  {
   "cell_type": "markdown",
   "metadata": {},
   "source": [
    "# OVERVIEW OF MOTOR VEHICLE CRASHES"
   ]
  },
  {
   "cell_type": "code",
   "execution_count": 1,
   "metadata": {},
   "outputs": [],
   "source": [
    "import pandas as pd\n",
    "import numpy as np\n",
    "import matplotlib.pyplot as plt\n",
    "import xlrd\n",
    "import openpyxl\n",
    "\n",
    "# https://stackoverflow.com/questions/62593913/plotting-a-pie-chart-out-of-a-dictionary\n",
    "# https://www.google.com/search?client=firefox-b-1-d&q=plot+pie+chart+using+dictionary+python\n",
    "\n",
    "# df = pd.read_excel(\"TSF_Table_65_2010.xlsx\",engine='openpyxl', header=4, usecols=['Unnamed: 1', 'Unnamed: 2', 'Unnamed: 3'])\n",
    "# df.fillna(method='ffill', inplace=True)\n",
    "# df.columns=['Vehicle Type', 'Person Type', 'Occupants Killed']"
   ]
  },
  {
   "cell_type": "code",
   "execution_count": 2,
   "metadata": {},
   "outputs": [],
   "source": [
    "df = pd.read_excel('f.xls')"
   ]
  },
  {
   "cell_type": "code",
   "execution_count": 3,
   "metadata": {},
   "outputs": [
    {
     "data": {
      "text/html": [
       "<div>\n",
       "<style scoped>\n",
       "    .dataframe tbody tr th:only-of-type {\n",
       "        vertical-align: middle;\n",
       "    }\n",
       "\n",
       "    .dataframe tbody tr th {\n",
       "        vertical-align: top;\n",
       "    }\n",
       "\n",
       "    .dataframe thead th {\n",
       "        text-align: right;\n",
       "    }\n",
       "</style>\n",
       "<table border=\"1\" class=\"dataframe\">\n",
       "  <thead>\n",
       "    <tr style=\"text-align: right;\">\n",
       "      <th></th>\n",
       "      <th>Year</th>\n",
       "      <th>Total Fatalities</th>\n",
       "      <th>Vehicle Miles Traveled (VMT) Millions</th>\n",
       "      <th>Fatality Rate per 100 Million VMT</th>\n",
       "    </tr>\n",
       "  </thead>\n",
       "  <tbody>\n",
       "    <tr>\n",
       "      <td>0</td>\n",
       "      <td>1899</td>\n",
       "      <td>26</td>\n",
       "      <td>NaN</td>\n",
       "      <td>NaN</td>\n",
       "    </tr>\n",
       "    <tr>\n",
       "      <td>1</td>\n",
       "      <td>1900</td>\n",
       "      <td>36</td>\n",
       "      <td>NaN</td>\n",
       "      <td>NaN</td>\n",
       "    </tr>\n",
       "    <tr>\n",
       "      <td>2</td>\n",
       "      <td>1901</td>\n",
       "      <td>54</td>\n",
       "      <td>NaN</td>\n",
       "      <td>NaN</td>\n",
       "    </tr>\n",
       "    <tr>\n",
       "      <td>3</td>\n",
       "      <td>1902</td>\n",
       "      <td>79</td>\n",
       "      <td>NaN</td>\n",
       "      <td>NaN</td>\n",
       "    </tr>\n",
       "    <tr>\n",
       "      <td>4</td>\n",
       "      <td>1903</td>\n",
       "      <td>117</td>\n",
       "      <td>NaN</td>\n",
       "      <td>NaN</td>\n",
       "    </tr>\n",
       "  </tbody>\n",
       "</table>\n",
       "</div>"
      ],
      "text/plain": [
       "   Year  Total Fatalities  Vehicle Miles Traveled (VMT) Millions  \\\n",
       "0  1899                26                                    NaN   \n",
       "1  1900                36                                    NaN   \n",
       "2  1901                54                                    NaN   \n",
       "3  1902                79                                    NaN   \n",
       "4  1903               117                                    NaN   \n",
       "\n",
       "   Fatality Rate per 100 Million VMT  \n",
       "0                                NaN  \n",
       "1                                NaN  \n",
       "2                                NaN  \n",
       "3                                NaN  \n",
       "4                                NaN  "
      ]
     },
     "execution_count": 3,
     "metadata": {},
     "output_type": "execute_result"
    }
   ],
   "source": [
    "df.head()"
   ]
  },
  {
   "cell_type": "code",
   "execution_count": 4,
   "metadata": {},
   "outputs": [
    {
     "data": {
      "text/html": [
       "<div>\n",
       "<style scoped>\n",
       "    .dataframe tbody tr th:only-of-type {\n",
       "        vertical-align: middle;\n",
       "    }\n",
       "\n",
       "    .dataframe tbody tr th {\n",
       "        vertical-align: top;\n",
       "    }\n",
       "\n",
       "    .dataframe thead th {\n",
       "        text-align: right;\n",
       "    }\n",
       "</style>\n",
       "<table border=\"1\" class=\"dataframe\">\n",
       "  <thead>\n",
       "    <tr style=\"text-align: right;\">\n",
       "      <th></th>\n",
       "      <th>Year</th>\n",
       "      <th>Total Fatalities</th>\n",
       "      <th>Vehicle Miles Traveled (VMT) Millions</th>\n",
       "      <th>Fatality Rate per 100 Million VMT</th>\n",
       "    </tr>\n",
       "  </thead>\n",
       "  <tbody>\n",
       "    <tr>\n",
       "      <td>115</td>\n",
       "      <td>2014</td>\n",
       "      <td>32744</td>\n",
       "      <td>3025656.0</td>\n",
       "      <td>1.082212</td>\n",
       "    </tr>\n",
       "    <tr>\n",
       "      <td>116</td>\n",
       "      <td>2015</td>\n",
       "      <td>35484</td>\n",
       "      <td>3095373.0</td>\n",
       "      <td>1.146356</td>\n",
       "    </tr>\n",
       "    <tr>\n",
       "      <td>117</td>\n",
       "      <td>2016</td>\n",
       "      <td>37806</td>\n",
       "      <td>3174408.0</td>\n",
       "      <td>1.190962</td>\n",
       "    </tr>\n",
       "    <tr>\n",
       "      <td>118</td>\n",
       "      <td>2017</td>\n",
       "      <td>37473</td>\n",
       "      <td>3212347.0</td>\n",
       "      <td>1.166530</td>\n",
       "    </tr>\n",
       "    <tr>\n",
       "      <td>119</td>\n",
       "      <td>2018</td>\n",
       "      <td>36560</td>\n",
       "      <td>3240327.0</td>\n",
       "      <td>1.128281</td>\n",
       "    </tr>\n",
       "  </tbody>\n",
       "</table>\n",
       "</div>"
      ],
      "text/plain": [
       "     Year  Total Fatalities  Vehicle Miles Traveled (VMT) Millions  \\\n",
       "115  2014             32744                              3025656.0   \n",
       "116  2015             35484                              3095373.0   \n",
       "117  2016             37806                              3174408.0   \n",
       "118  2017             37473                              3212347.0   \n",
       "119  2018             36560                              3240327.0   \n",
       "\n",
       "     Fatality Rate per 100 Million VMT  \n",
       "115                           1.082212  \n",
       "116                           1.146356  \n",
       "117                           1.190962  \n",
       "118                           1.166530  \n",
       "119                           1.128281  "
      ]
     },
     "execution_count": 4,
     "metadata": {},
     "output_type": "execute_result"
    }
   ],
   "source": [
    "df.tail()"
   ]
  },
  {
   "cell_type": "code",
   "execution_count": 5,
   "metadata": {},
   "outputs": [],
   "source": [
    "df_sliced = df[df['Year']>=1975]"
   ]
  },
  {
   "cell_type": "markdown",
   "metadata": {},
   "source": [
    "##### OVERALL TRENDS - Fatalities and Fatality Rate per 100 Million VMT, 1975-2019"
   ]
  },
  {
   "cell_type": "code",
   "execution_count": 6,
   "metadata": {},
   "outputs": [
    {
     "data": {
      "text/plain": [
       "([<matplotlib.axis.XTick at 0x144b7222348>,\n",
       "  <matplotlib.axis.XTick at 0x144b7222788>,\n",
       "  <matplotlib.axis.XTick at 0x144b717eb48>,\n",
       "  <matplotlib.axis.XTick at 0x144b725c648>,\n",
       "  <matplotlib.axis.XTick at 0x144b725ce08>,\n",
       "  <matplotlib.axis.XTick at 0x144b725f808>,\n",
       "  <matplotlib.axis.XTick at 0x144b725b2c8>,\n",
       "  <matplotlib.axis.XTick at 0x144b725bc08>,\n",
       "  <matplotlib.axis.XTick at 0x144b7267608>,\n",
       "  <matplotlib.axis.XTick at 0x144b726a148>,\n",
       "  <matplotlib.axis.XTick at 0x144b726a988>,\n",
       "  <matplotlib.axis.XTick at 0x144b7267708>,\n",
       "  <matplotlib.axis.XTick at 0x144b7256b48>,\n",
       "  <matplotlib.axis.XTick at 0x144b726e588>,\n",
       "  <matplotlib.axis.XTick at 0x144b7273248>,\n",
       "  <matplotlib.axis.XTick at 0x144b7273a48>,\n",
       "  <matplotlib.axis.XTick at 0x144b7276448>,\n",
       "  <matplotlib.axis.XTick at 0x144b7276e88>,\n",
       "  <matplotlib.axis.XTick at 0x144b727b908>,\n",
       "  <matplotlib.axis.XTick at 0x144b7279388>,\n",
       "  <matplotlib.axis.XTick at 0x144b7279dc8>,\n",
       "  <matplotlib.axis.XTick at 0x144b7276a08>,\n",
       "  <matplotlib.axis.XTick at 0x144b726e148>],\n",
       " <a list of 23 Text major ticklabel objects>)"
      ]
     },
     "execution_count": 6,
     "metadata": {},
     "output_type": "execute_result"
    },
    {
     "data": {
      "image/png": "[encoded data removed]",
      "text/plain": [
       "<Figure size 1080x720 with 2 Axes>"
      ]
     },
     "metadata": {
      "needs_background": "light"
     },
     "output_type": "display_data"
    }
   ],
   "source": [
    "x = []\n",
    "for i in range(1975, 2020,2):\n",
    "    x.append(i)\n",
    "plt.figure(1, figsize=(15,10))\n",
    "barchart = plt.bar(df_sliced['Year'],df_sliced['Total Fatalities'], color='green')\n",
    "plt.twinx()\n",
    "linechart = plt.plot(df_sliced['Year'], df_sliced['Fatality Rate per 100 Million VMT'], color='red')\n",
    "plt.xticks(x)"
   ]
  },
  {
   "cell_type": "code",
   "execution_count": 7,
   "metadata": {},
   "outputs": [],
   "source": [
    "injuries = pd.read_excel('injuries.xlsx' , header = 4)"
   ]
  },
  {
   "cell_type": "code",
   "execution_count": 8,
   "metadata": {},
   "outputs": [
    {
     "data": {
      "text/html": [
       "<div>\n",
       "<style scoped>\n",
       "    .dataframe tbody tr th:only-of-type {\n",
       "        vertical-align: middle;\n",
       "    }\n",
       "\n",
       "    .dataframe tbody tr th {\n",
       "        vertical-align: top;\n",
       "    }\n",
       "\n",
       "    .dataframe thead th {\n",
       "        text-align: right;\n",
       "    }\n",
       "</style>\n",
       "<table border=\"1\" class=\"dataframe\">\n",
       "  <thead>\n",
       "    <tr style=\"text-align: right;\">\n",
       "      <th></th>\n",
       "      <th>Year</th>\n",
       "      <th>Injured</th>\n",
       "      <th>Resident Population</th>\n",
       "      <th>Injury Rate per 100,000 Population</th>\n",
       "      <th>Licensed Drivers</th>\n",
       "      <th>Injury Rate per 100,000 Licensed Drivers</th>\n",
       "      <th>Registered Motor Vehicles</th>\n",
       "      <th>Injury Rate per 100,000 Registered Vehicles</th>\n",
       "      <th>Vehicle Miles Traveled (Millions)</th>\n",
       "      <th>Injury Rate per 100 Million VMT</th>\n",
       "    </tr>\n",
       "  </thead>\n",
       "  <tbody>\n",
       "    <tr>\n",
       "      <td>0</td>\n",
       "      <td>1988</td>\n",
       "      <td>3427000</td>\n",
       "      <td>244498982</td>\n",
       "      <td>1402</td>\n",
       "      <td>162854000</td>\n",
       "      <td>2105</td>\n",
       "      <td>177455476</td>\n",
       "      <td>1931</td>\n",
       "      <td>2025962</td>\n",
       "      <td>169</td>\n",
       "    </tr>\n",
       "    <tr>\n",
       "      <td>1</td>\n",
       "      <td>1989</td>\n",
       "      <td>3292000</td>\n",
       "      <td>246819230</td>\n",
       "      <td>1334</td>\n",
       "      <td>165554000</td>\n",
       "      <td>1989</td>\n",
       "      <td>181164568</td>\n",
       "      <td>1817</td>\n",
       "      <td>2096487</td>\n",
       "      <td>157</td>\n",
       "    </tr>\n",
       "    <tr>\n",
       "      <td>2</td>\n",
       "      <td>1990</td>\n",
       "      <td>3246000</td>\n",
       "      <td>249464396</td>\n",
       "      <td>1301</td>\n",
       "      <td>167015000</td>\n",
       "      <td>1944</td>\n",
       "      <td>184275422</td>\n",
       "      <td>1762</td>\n",
       "      <td>2144362</td>\n",
       "      <td>151</td>\n",
       "    </tr>\n",
       "    <tr>\n",
       "      <td>3</td>\n",
       "      <td>1991</td>\n",
       "      <td>3107000</td>\n",
       "      <td>252153092</td>\n",
       "      <td>1232</td>\n",
       "      <td>168995000</td>\n",
       "      <td>1839</td>\n",
       "      <td>186370190</td>\n",
       "      <td>1667</td>\n",
       "      <td>2172050</td>\n",
       "      <td>143</td>\n",
       "    </tr>\n",
       "    <tr>\n",
       "      <td>4</td>\n",
       "      <td>1992</td>\n",
       "      <td>3079000</td>\n",
       "      <td>255029699</td>\n",
       "      <td>1207</td>\n",
       "      <td>173125000</td>\n",
       "      <td>1779</td>\n",
       "      <td>184937848</td>\n",
       "      <td>1665</td>\n",
       "      <td>2247151</td>\n",
       "      <td>137</td>\n",
       "    </tr>\n",
       "  </tbody>\n",
       "</table>\n",
       "</div>"
      ],
      "text/plain": [
       "   Year  Injured  Resident Population  Injury Rate per 100,000 Population  \\\n",
       "0  1988  3427000            244498982                                1402   \n",
       "1  1989  3292000            246819230                                1334   \n",
       "2  1990  3246000            249464396                                1301   \n",
       "3  1991  3107000            252153092                                1232   \n",
       "4  1992  3079000            255029699                                1207   \n",
       "\n",
       "   Licensed Drivers  Injury Rate per 100,000 Licensed Drivers  \\\n",
       "0         162854000                                      2105   \n",
       "1         165554000                                      1989   \n",
       "2         167015000                                      1944   \n",
       "3         168995000                                      1839   \n",
       "4         173125000                                      1779   \n",
       "\n",
       "   Registered Motor Vehicles  Injury Rate per 100,000 Registered Vehicles  \\\n",
       "0                  177455476                                         1931   \n",
       "1                  181164568                                         1817   \n",
       "2                  184275422                                         1762   \n",
       "3                  186370190                                         1667   \n",
       "4                  184937848                                         1665   \n",
       "\n",
       "   Vehicle Miles Traveled (Millions)  Injury Rate per 100 Million VMT  \n",
       "0                            2025962                              169  \n",
       "1                            2096487                              157  \n",
       "2                            2144362                              151  \n",
       "3                            2172050                              143  \n",
       "4                            2247151                              137  "
      ]
     },
     "execution_count": 8,
     "metadata": {},
     "output_type": "execute_result"
    }
   ],
   "source": [
    "injuries.head()"
   ]
  },
  {
   "cell_type": "code",
   "execution_count": 9,
   "metadata": {},
   "outputs": [
    {
     "data": {
      "text/plain": [
       "Year                                           int64\n",
       "Injured                                        int64\n",
       "Resident Population                            int64\n",
       "Injury Rate per 100,000 Population             int64\n",
       "Licensed Drivers                               int64\n",
       "Injury Rate per 100,000 Licensed Drivers       int64\n",
       "Registered Motor Vehicles                      int64\n",
       "Injury Rate per 100,000 Registered Vehicles    int64\n",
       "Vehicle Miles Traveled (Millions)              int64\n",
       "Injury Rate per 100 Million VMT                int64\n",
       "dtype: object"
      ]
     },
     "execution_count": 9,
     "metadata": {},
     "output_type": "execute_result"
    }
   ],
   "source": [
    "injuries.dtypes"
   ]
  },
  {
   "cell_type": "code",
   "execution_count": 10,
   "metadata": {},
   "outputs": [],
   "source": [
    "injuries[\"Year\"] = pd.to_numeric(injuries[\"Year\"])"
   ]
  },
  {
   "cell_type": "markdown",
   "metadata": {},
   "source": [
    "#### Overall Trends - People Injured and Injury Rate per 100 Million VMT, 1988-2019"
   ]
  },
  {
   "cell_type": "code",
   "execution_count": 11,
   "metadata": {},
   "outputs": [
    {
     "data": {
      "text/plain": [
       "([<matplotlib.axis.XTick at 0x144b7962f08>,\n",
       "  <matplotlib.axis.XTick at 0x144b7962ec8>,\n",
       "  <matplotlib.axis.XTick at 0x144b78f8888>,\n",
       "  <matplotlib.axis.XTick at 0x144b7991b48>,\n",
       "  <matplotlib.axis.XTick at 0x144b7905f88>,\n",
       "  <matplotlib.axis.XTick at 0x144b78e2748>,\n",
       "  <matplotlib.axis.XTick at 0x144b78b9e08>,\n",
       "  <matplotlib.axis.XTick at 0x144b7994b88>,\n",
       "  <matplotlib.axis.XTick at 0x144b7999408>,\n",
       "  <matplotlib.axis.XTick at 0x144b7999c48>,\n",
       "  <matplotlib.axis.XTick at 0x144b799e488>,\n",
       "  <matplotlib.axis.XTick at 0x144b799ecc8>,\n",
       "  <matplotlib.axis.XTick at 0x144b79a1588>,\n",
       "  <matplotlib.axis.XTick at 0x144b79a7148>,\n",
       "  <matplotlib.axis.XTick at 0x144b717e3c8>,\n",
       "  <matplotlib.axis.XTick at 0x144b71b1ec8>],\n",
       " <a list of 16 Text major ticklabel objects>)"
      ]
     },
     "execution_count": 11,
     "metadata": {},
     "output_type": "execute_result"
    },
    {
     "data": {
      "image/png": "[encoded data removed]",
      "text/plain": [
       "<Figure size 1080x720 with 2 Axes>"
      ]
     },
     "metadata": {
      "needs_background": "light"
     },
     "output_type": "display_data"
    }
   ],
   "source": [
    "x = []\n",
    "for i in range(1988, 2020,2):\n",
    "    x.append(i)\n",
    "plt.figure(1, figsize=(15,10))\n",
    "barchart = plt.bar(injuries['Year'], injuries['Injured'], color='black')\n",
    "plt.twinx()\n",
    "linechart = plt.plot(injuries['Year'], injuries['Injury Rate per 100 Million VMT'], color='yellow')\n",
    "plt.xticks(x)"
   ]
  },
  {
   "cell_type": "code",
   "execution_count": 27,
   "metadata": {},
   "outputs": [
    {
     "data": {
      "image/png": "[encoded data removed]",
      "text/plain": [
       "<Figure size 1440x720 with 1 Axes>"
      ]
     },
     "metadata": {},
     "output_type": "display_data"
    },
    {
     "data": {
      "image/png": "[encoded data removed]",
      "text/plain": [
       "<Figure size 1440x720 with 1 Axes>"
      ]
     },
     "metadata": {},
     "output_type": "display_data"
    }
   ],
   "source": [
    "def values(xlfile):\n",
    "    total_killed = {}\n",
    "    for index, row in df.iterrows():\n",
    "        if ((row['Vehicle Type'] != 'Total') and (row['Person Type'] == 'Subtotal')):   \n",
    "            total_killed[row['Vehicle Type']] = row['Occupants Killed']\n",
    "        elif ((row['Vehicle Type'] == 'Motorcyclists' or row['Vehicle Type'] == 'Nonoccupants') and (row['Person Type'] == 'Total')):   \n",
    "            total_killed[row['Vehicle Type']] = row['Occupants Killed']  \n",
    "        else:\n",
    "            continue\n",
    "    return total_killed\n",
    "\n",
    "def plotpie(dict1):\n",
    "    labels = []\n",
    "    number = []\n",
    "    percent = []\n",
    "    for x,y in dict1.items():\n",
    "        labels.append(x)\n",
    "        number.append(y)\n",
    "    # http://www.learningaboutelectronics.com/Articles/How-to-create-a-pie-chart-in-matplotlib-with-Python.php\n",
    "    plt.pie(number, labels=labels, startangle=90, autopct = '%1.1f%%', \n",
    "            explode=(0.1, 0.1, 0.1, 0.1, 0.1), labeldistance=1.2)\n",
    "    plt.axis('equal')\n",
    "#    plt.legend(labels, loc = 'upper right' )\n",
    "    plt.show()\n",
    "    \n",
    "xlfile=[\"2010/TSF_Table_65.xlsx\", \"2019/TSF_Table_65.xlsx\"]\n",
    "xlfile1 = [\"2010/TSF_Table_54.xlsx\", \"2019/TSF_Table_54.xlsx\"]\n",
    "\n",
    "for i in range(len(xlfile)):\n",
    "    df = pd.read_excel(xlfile[i],engine='openpyxl', header=4, usecols=['Unnamed: 1', 'Unnamed: 2', 'Unnamed: 3'])\n",
    "    df.fillna(method='ffill', inplace=True)\n",
    "    df.columns=['Vehicle Type', 'Person Type', 'Occupants Killed']\n",
    "    for j in range(len(xlfile1)):\n",
    "        if i==j:\n",
    "            df1 = pd.read_excel(xlfile1[j],engine='openpyxl', header=3, usecols=['Unnamed: 0', 'Unnamed: 1', 'Unnamed: 2'])\n",
    "            df1.fillna(method='ffill', inplace=True)\n",
    "            df1.columns=['Vehicle Type', 'Person Type', 'Occupants Killed']\n",
    "            df = pd.concat([df,df1], axis=0)\n",
    "            total_killed = values(df)\n",
    "            total_killed['Large-Truck, Bus, and Other Vehicle'] = total_killed['Large Truck']+total_killed['Bus']+ total_killed['Other/Unknown\\nVehicle']\n",
    "            del total_killed['Large Truck'], total_killed['Bus'],total_killed['Other/Unknown\\nVehicle']\n",
    "            plotpie(total_killed)"
   ]
  },
  {
   "cell_type": "code",
   "execution_count": 12,
   "metadata": {},
   "outputs": [],
   "source": [
    "fig4 = pd.read_excel(\"figure4.xlsx\" , header = 4)"
   ]
  },
  {
   "cell_type": "code",
   "execution_count": 13,
   "metadata": {},
   "outputs": [
    {
     "data": {
      "text/html": [
       "<div>\n",
       "<style scoped>\n",
       "    .dataframe tbody tr th:only-of-type {\n",
       "        vertical-align: middle;\n",
       "    }\n",
       "\n",
       "    .dataframe tbody tr th {\n",
       "        vertical-align: top;\n",
       "    }\n",
       "\n",
       "    .dataframe thead th {\n",
       "        text-align: right;\n",
       "    }\n",
       "</style>\n",
       "<table border=\"1\" class=\"dataframe\">\n",
       "  <thead>\n",
       "    <tr style=\"text-align: right;\">\n",
       "      <th></th>\n",
       "      <th>Injury Severity</th>\n",
       "      <th>Year</th>\n",
       "      <th>Passenger Cars</th>\n",
       "      <th>Light Trucks</th>\n",
       "      <th>Large Trucks</th>\n",
       "      <th>Buses</th>\n",
       "      <th>Other/Unknown</th>\n",
       "      <th>Occupants Total</th>\n",
       "      <th>Motorcycles</th>\n",
       "      <th>Pedestrians</th>\n",
       "      <th>Pedalcyclists</th>\n",
       "      <th>Other/Unknown Nonoccupants</th>\n",
       "      <th>nonoccupants Total</th>\n",
       "      <th>Total</th>\n",
       "    </tr>\n",
       "  </thead>\n",
       "  <tbody>\n",
       "    <tr>\n",
       "      <td>0</td>\n",
       "      <td>Killed</td>\n",
       "      <td>1975</td>\n",
       "      <td>25929</td>\n",
       "      <td>4856</td>\n",
       "      <td>961</td>\n",
       "      <td>53</td>\n",
       "      <td>937</td>\n",
       "      <td>32736</td>\n",
       "      <td>3189</td>\n",
       "      <td>7516</td>\n",
       "      <td>1003</td>\n",
       "      <td>81</td>\n",
       "      <td>8600</td>\n",
       "      <td>44525</td>\n",
       "    </tr>\n",
       "    <tr>\n",
       "      <td>1</td>\n",
       "      <td>Killed</td>\n",
       "      <td>1976</td>\n",
       "      <td>26166</td>\n",
       "      <td>5438</td>\n",
       "      <td>1132</td>\n",
       "      <td>73</td>\n",
       "      <td>981</td>\n",
       "      <td>33790</td>\n",
       "      <td>3312</td>\n",
       "      <td>7427</td>\n",
       "      <td>914</td>\n",
       "      <td>80</td>\n",
       "      <td>8421</td>\n",
       "      <td>45523</td>\n",
       "    </tr>\n",
       "    <tr>\n",
       "      <td>2</td>\n",
       "      <td>Killed</td>\n",
       "      <td>1977</td>\n",
       "      <td>26782</td>\n",
       "      <td>5976</td>\n",
       "      <td>1287</td>\n",
       "      <td>42</td>\n",
       "      <td>959</td>\n",
       "      <td>35046</td>\n",
       "      <td>4104</td>\n",
       "      <td>7732</td>\n",
       "      <td>922</td>\n",
       "      <td>74</td>\n",
       "      <td>8728</td>\n",
       "      <td>47878</td>\n",
       "    </tr>\n",
       "    <tr>\n",
       "      <td>3</td>\n",
       "      <td>Killed</td>\n",
       "      <td>1978</td>\n",
       "      <td>28153</td>\n",
       "      <td>6745</td>\n",
       "      <td>1395</td>\n",
       "      <td>41</td>\n",
       "      <td>622</td>\n",
       "      <td>36956</td>\n",
       "      <td>4577</td>\n",
       "      <td>7795</td>\n",
       "      <td>892</td>\n",
       "      <td>111</td>\n",
       "      <td>8798</td>\n",
       "      <td>50331</td>\n",
       "    </tr>\n",
       "    <tr>\n",
       "      <td>4</td>\n",
       "      <td>Killed</td>\n",
       "      <td>1979</td>\n",
       "      <td>27808</td>\n",
       "      <td>7178</td>\n",
       "      <td>1432</td>\n",
       "      <td>39</td>\n",
       "      <td>579</td>\n",
       "      <td>37036</td>\n",
       "      <td>4894</td>\n",
       "      <td>8096</td>\n",
       "      <td>932</td>\n",
       "      <td>135</td>\n",
       "      <td>9163</td>\n",
       "      <td>51093</td>\n",
       "    </tr>\n",
       "  </tbody>\n",
       "</table>\n",
       "</div>"
      ],
      "text/plain": [
       "  Injury Severity  Year  Passenger Cars  Light Trucks  Large Trucks  Buses  \\\n",
       "0          Killed  1975           25929          4856           961     53   \n",
       "1          Killed  1976           26166          5438          1132     73   \n",
       "2          Killed  1977           26782          5976          1287     42   \n",
       "3          Killed  1978           28153          6745          1395     41   \n",
       "4          Killed  1979           27808          7178          1432     39   \n",
       "\n",
       "   Other/Unknown  Occupants Total  Motorcycles  Pedestrians  Pedalcyclists  \\\n",
       "0            937            32736         3189         7516           1003   \n",
       "1            981            33790         3312         7427            914   \n",
       "2            959            35046         4104         7732            922   \n",
       "3            622            36956         4577         7795            892   \n",
       "4            579            37036         4894         8096            932   \n",
       "\n",
       "   Other/Unknown Nonoccupants  nonoccupants Total  Total  \n",
       "0                          81                8600  44525  \n",
       "1                          80                8421  45523  \n",
       "2                          74                8728  47878  \n",
       "3                         111                8798  50331  \n",
       "4                         135                9163  51093  "
      ]
     },
     "execution_count": 13,
     "metadata": {},
     "output_type": "execute_result"
    }
   ],
   "source": [
    "fig4.head()"
   ]
  },
  {
   "cell_type": "code",
   "execution_count": 14,
   "metadata": {},
   "outputs": [],
   "source": [
    "fig4_killed = fig4.loc[fig4[\"Injury Severity\"] == \"Killed\"].copy()"
   ]
  },
  {
   "cell_type": "code",
   "execution_count": 15,
   "metadata": {},
   "outputs": [],
   "source": [
    "fig4_killed[\"Inside Vehicle\"] = fig4_killed[\"Occupants Total\"]/fig4_killed[\"Total\"]*100\n",
    "# fig4_killed[\"Outside Vehicle\"] = fig4_killed[\"nonoccupants Total\"]/fig4_killed[\"Total\"]*100\n",
    "fig4_killed[\"Outside Vehicle\"] = 100 - fig4_killed[\"Inside Vehicle\"]"
   ]
  },
  {
   "cell_type": "code",
   "execution_count": 16,
   "metadata": {},
   "outputs": [],
   "source": [
    "fig4_sliced = fig4_killed[[\"Year\", \"Occupants Total\", \"nonoccupants Total\", \"Total\", \"Inside Vehicle\", \"Outside Vehicle\"]]"
   ]
  },
  {
   "cell_type": "code",
   "execution_count": 17,
   "metadata": {},
   "outputs": [
    {
     "data": {
      "text/html": [
       "<div>\n",
       "<style scoped>\n",
       "    .dataframe tbody tr th:only-of-type {\n",
       "        vertical-align: middle;\n",
       "    }\n",
       "\n",
       "    .dataframe tbody tr th {\n",
       "        vertical-align: top;\n",
       "    }\n",
       "\n",
       "    .dataframe thead th {\n",
       "        text-align: right;\n",
       "    }\n",
       "</style>\n",
       "<table border=\"1\" class=\"dataframe\">\n",
       "  <thead>\n",
       "    <tr style=\"text-align: right;\">\n",
       "      <th></th>\n",
       "      <th>Year</th>\n",
       "      <th>Occupants Total</th>\n",
       "      <th>nonoccupants Total</th>\n",
       "      <th>Total</th>\n",
       "      <th>Inside Vehicle</th>\n",
       "      <th>Outside Vehicle</th>\n",
       "    </tr>\n",
       "  </thead>\n",
       "  <tbody>\n",
       "    <tr>\n",
       "      <td>0</td>\n",
       "      <td>1975</td>\n",
       "      <td>32736</td>\n",
       "      <td>8600</td>\n",
       "      <td>44525</td>\n",
       "      <td>73.522740</td>\n",
       "      <td>26.477260</td>\n",
       "    </tr>\n",
       "    <tr>\n",
       "      <td>1</td>\n",
       "      <td>1976</td>\n",
       "      <td>33790</td>\n",
       "      <td>8421</td>\n",
       "      <td>45523</td>\n",
       "      <td>74.226215</td>\n",
       "      <td>25.773785</td>\n",
       "    </tr>\n",
       "    <tr>\n",
       "      <td>2</td>\n",
       "      <td>1977</td>\n",
       "      <td>35046</td>\n",
       "      <td>8728</td>\n",
       "      <td>47878</td>\n",
       "      <td>73.198546</td>\n",
       "      <td>26.801454</td>\n",
       "    </tr>\n",
       "    <tr>\n",
       "      <td>3</td>\n",
       "      <td>1978</td>\n",
       "      <td>36956</td>\n",
       "      <td>8798</td>\n",
       "      <td>50331</td>\n",
       "      <td>73.425920</td>\n",
       "      <td>26.574080</td>\n",
       "    </tr>\n",
       "    <tr>\n",
       "      <td>4</td>\n",
       "      <td>1979</td>\n",
       "      <td>37036</td>\n",
       "      <td>9163</td>\n",
       "      <td>51093</td>\n",
       "      <td>72.487425</td>\n",
       "      <td>27.512575</td>\n",
       "    </tr>\n",
       "  </tbody>\n",
       "</table>\n",
       "</div>"
      ],
      "text/plain": [
       "   Year  Occupants Total  nonoccupants Total  Total  Inside Vehicle  \\\n",
       "0  1975            32736                8600  44525       73.522740   \n",
       "1  1976            33790                8421  45523       74.226215   \n",
       "2  1977            35046                8728  47878       73.198546   \n",
       "3  1978            36956                8798  50331       73.425920   \n",
       "4  1979            37036                9163  51093       72.487425   \n",
       "\n",
       "   Outside Vehicle  \n",
       "0        26.477260  \n",
       "1        25.773785  \n",
       "2        26.801454  \n",
       "3        26.574080  \n",
       "4        27.512575  "
      ]
     },
     "execution_count": 17,
     "metadata": {},
     "output_type": "execute_result"
    }
   ],
   "source": [
    "fig4_sliced.head()"
   ]
  },
  {
   "cell_type": "markdown",
   "metadata": {},
   "source": [
    "#### Overall Trends - Proportion of Fatalities Inside/Outside Vehicle, 1975-2019"
   ]
  },
  {
   "cell_type": "code",
   "execution_count": 18,
   "metadata": {},
   "outputs": [
    {
     "data": {
      "text/plain": [
       "([<matplotlib.axis.YTick at 0x144b78de0c8>,\n",
       "  <matplotlib.axis.YTick at 0x144b7a17588>,\n",
       "  <matplotlib.axis.YTick at 0x144b72e8408>,\n",
       "  <matplotlib.axis.YTick at 0x144b72e3408>,\n",
       "  <matplotlib.axis.YTick at 0x144b72cf6c8>,\n",
       "  <matplotlib.axis.YTick at 0x144b7a15288>,\n",
       "  <matplotlib.axis.YTick at 0x144b72c0b08>,\n",
       "  <matplotlib.axis.YTick at 0x144b79f64c8>,\n",
       "  <matplotlib.axis.YTick at 0x144b7a110c8>,\n",
       "  <matplotlib.axis.YTick at 0x144b7367048>],\n",
       " <a list of 10 Text major ticklabel objects>)"
      ]
     },
     "execution_count": 18,
     "metadata": {},
     "output_type": "execute_result"
    },
    {
     "data": {
      "image/png": "[encoded data removed]",
      "text/plain": [
       "<Figure size 1080x360 with 1 Axes>"
      ]
     },
     "metadata": {
      "needs_background": "light"
     },
     "output_type": "display_data"
    }
   ],
   "source": [
    "x = []\n",
    "y = []\n",
    "for i in range(0,100,10):\n",
    "    y.append(i)\n",
    "for i in range(1975, 2020,2):\n",
    "    x.append(i)\n",
    "plt.figure(1, figsize=(15,5))\n",
    "linechart1 = plt.plot(fig4_sliced['Year'], fig4_sliced['Inside Vehicle'], color='black')\n",
    "# plt.twinx()\n",
    "linechart2 = plt.plot(fig4_sliced['Year'], fig4_sliced['Outside Vehicle'], color='red')\n",
    "plt.xticks(x)\n",
    "plt.yticks(y)"
   ]
  },
  {
   "cell_type": "code",
   "execution_count": 19,
   "metadata": {},
   "outputs": [],
   "source": [
    "fig5 = pd.read_excel(\"figure5.xlsx\")"
   ]
  },
  {
   "cell_type": "code",
   "execution_count": 20,
   "metadata": {},
   "outputs": [
    {
     "data": {
      "text/html": [
       "<div>\n",
       "<style scoped>\n",
       "    .dataframe tbody tr th:only-of-type {\n",
       "        vertical-align: middle;\n",
       "    }\n",
       "\n",
       "    .dataframe tbody tr th {\n",
       "        vertical-align: top;\n",
       "    }\n",
       "\n",
       "    .dataframe thead th {\n",
       "        text-align: right;\n",
       "    }\n",
       "</style>\n",
       "<table border=\"1\" class=\"dataframe\">\n",
       "  <thead>\n",
       "    <tr style=\"text-align: right;\">\n",
       "      <th></th>\n",
       "      <th>Year</th>\n",
       "      <th>Urban Deaths</th>\n",
       "      <th>UD_Perct</th>\n",
       "      <th>Rural Deaths</th>\n",
       "      <th>RD_Perct</th>\n",
       "      <th>Total Deaths</th>\n",
       "    </tr>\n",
       "  </thead>\n",
       "  <tbody>\n",
       "    <tr>\n",
       "      <td>0</td>\n",
       "      <td>1977</td>\n",
       "      <td>19296</td>\n",
       "      <td>40</td>\n",
       "      <td>28463</td>\n",
       "      <td>60</td>\n",
       "      <td>47878</td>\n",
       "    </tr>\n",
       "    <tr>\n",
       "      <td>1</td>\n",
       "      <td>1978</td>\n",
       "      <td>19863</td>\n",
       "      <td>40</td>\n",
       "      <td>30018</td>\n",
       "      <td>60</td>\n",
       "      <td>50331</td>\n",
       "    </tr>\n",
       "    <tr>\n",
       "      <td>2</td>\n",
       "      <td>1979</td>\n",
       "      <td>21507</td>\n",
       "      <td>42</td>\n",
       "      <td>29135</td>\n",
       "      <td>58</td>\n",
       "      <td>51093</td>\n",
       "    </tr>\n",
       "    <tr>\n",
       "      <td>3</td>\n",
       "      <td>1980</td>\n",
       "      <td>21560</td>\n",
       "      <td>43</td>\n",
       "      <td>29114</td>\n",
       "      <td>57</td>\n",
       "      <td>51091</td>\n",
       "    </tr>\n",
       "    <tr>\n",
       "      <td>4</td>\n",
       "      <td>1981</td>\n",
       "      <td>20782</td>\n",
       "      <td>43</td>\n",
       "      <td>27692</td>\n",
       "      <td>57</td>\n",
       "      <td>49301</td>\n",
       "    </tr>\n",
       "  </tbody>\n",
       "</table>\n",
       "</div>"
      ],
      "text/plain": [
       "   Year  Urban Deaths  UD_Perct  Rural Deaths  RD_Perct  Total Deaths\n",
       "0  1977         19296        40         28463        60         47878\n",
       "1  1978         19863        40         30018        60         50331\n",
       "2  1979         21507        42         29135        58         51093\n",
       "3  1980         21560        43         29114        57         51091\n",
       "4  1981         20782        43         27692        57         49301"
      ]
     },
     "execution_count": 20,
     "metadata": {},
     "output_type": "execute_result"
    }
   ],
   "source": [
    "fig5.head()"
   ]
  },
  {
   "cell_type": "markdown",
   "metadata": {},
   "source": [
    "#### Fatalities by Land Use, 2010-2019"
   ]
  },
  {
   "cell_type": "code",
   "execution_count": 22,
   "metadata": {},
   "outputs": [
    {
     "data": {
      "text/plain": [
       "([<matplotlib.axis.XTick at 0x144b7dbfe08>,\n",
       "  <matplotlib.axis.XTick at 0x144b7dbfd88>,\n",
       "  <matplotlib.axis.XTick at 0x144b7db1a08>,\n",
       "  <matplotlib.axis.XTick at 0x144b7de3888>,\n",
       "  <matplotlib.axis.XTick at 0x144b7de6208>,\n",
       "  <matplotlib.axis.XTick at 0x144b7de6788>,\n",
       "  <matplotlib.axis.XTick at 0x144b7dec2c8>,\n",
       "  <matplotlib.axis.XTick at 0x144b7de3748>,\n",
       "  <matplotlib.axis.XTick at 0x144b7dec408>,\n",
       "  <matplotlib.axis.XTick at 0x144b7df0348>,\n",
       "  <matplotlib.axis.XTick at 0x144b7df0b48>,\n",
       "  <matplotlib.axis.XTick at 0x144b7df43c8>,\n",
       "  <matplotlib.axis.XTick at 0x144b7df4c08>,\n",
       "  <matplotlib.axis.XTick at 0x144b7df9488>,\n",
       "  <matplotlib.axis.XTick at 0x144b7df9ec8>,\n",
       "  <matplotlib.axis.XTick at 0x144b7dfc548>,\n",
       "  <matplotlib.axis.XTick at 0x144b7dfcc08>,\n",
       "  <matplotlib.axis.XTick at 0x144b7df9548>,\n",
       "  <matplotlib.axis.XTick at 0x144b7df0648>,\n",
       "  <matplotlib.axis.XTick at 0x144b7dff208>,\n",
       "  <matplotlib.axis.XTick at 0x144b7e04188>,\n",
       "  <matplotlib.axis.XTick at 0x144b7e049c8>,\n",
       "  <matplotlib.axis.XTick at 0x144b7e0a248>],\n",
       " <a list of 23 Text major ticklabel objects>)"
      ]
     },
     "execution_count": 22,
     "metadata": {},
     "output_type": "execute_result"
    },
    {
     "data": {
      "image/png": "[encoded data removed]",
      "text/plain": [
       "<Figure size 1080x360 with 1 Axes>"
      ]
     },
     "metadata": {
      "needs_background": "light"
     },
     "output_type": "display_data"
    }
   ],
   "source": [
    "fig6 = fig5[fig5['Year']>=2010].copy()\n",
    "plt.figure(1, figsize=(15,5))\n",
    "linechart1 = plt.plot(fig5['Year'], fig5['Urban Deaths'], color='black')\n",
    "# plt.twinx()\n",
    "linechart2 = plt.plot(fig5['Year'], fig5['Rural Deaths'], color='red')\n",
    "plt.xticks(x)\n",
    "# plt.yticks(y)"
   ]
  },
  {
   "cell_type": "code",
   "execution_count": 23,
   "metadata": {},
   "outputs": [],
   "source": [
    "restraint_use = pd.read_excel(\"restrain_type.xlsx\", header = 4)"
   ]
  },
  {
   "cell_type": "code",
   "execution_count": 24,
   "metadata": {},
   "outputs": [
    {
     "data": {
      "text/html": [
       "<div>\n",
       "<style scoped>\n",
       "    .dataframe tbody tr th:only-of-type {\n",
       "        vertical-align: middle;\n",
       "    }\n",
       "\n",
       "    .dataframe tbody tr th {\n",
       "        vertical-align: top;\n",
       "    }\n",
       "\n",
       "    .dataframe thead th {\n",
       "        text-align: right;\n",
       "    }\n",
       "</style>\n",
       "<table border=\"1\" class=\"dataframe\">\n",
       "  <thead>\n",
       "    <tr style=\"text-align: right;\">\n",
       "      <th></th>\n",
       "      <th>Crash Severity</th>\n",
       "      <th>Year</th>\n",
       "      <th>Restrained Number</th>\n",
       "      <th>Restrained Percent</th>\n",
       "      <th>Unrestrained Number</th>\n",
       "      <th>Unrestrained Percent</th>\n",
       "      <th>Unknown Number</th>\n",
       "      <th>Unknown Percent</th>\n",
       "      <th>Total Number</th>\n",
       "      <th>Percent</th>\n",
       "    </tr>\n",
       "  </thead>\n",
       "  <tbody>\n",
       "    <tr>\n",
       "      <td>0</td>\n",
       "      <td>Fatal</td>\n",
       "      <td>1975</td>\n",
       "      <td>2580</td>\n",
       "      <td>5.6</td>\n",
       "      <td>29713</td>\n",
       "      <td>64.3</td>\n",
       "      <td>13931</td>\n",
       "      <td>30.1</td>\n",
       "      <td>46224</td>\n",
       "      <td>100</td>\n",
       "    </tr>\n",
       "    <tr>\n",
       "      <td>1</td>\n",
       "      <td>Fatal</td>\n",
       "      <td>1976</td>\n",
       "      <td>2059</td>\n",
       "      <td>4.5</td>\n",
       "      <td>29908</td>\n",
       "      <td>64.7</td>\n",
       "      <td>14239</td>\n",
       "      <td>30.8</td>\n",
       "      <td>46206</td>\n",
       "      <td>100</td>\n",
       "    </tr>\n",
       "    <tr>\n",
       "      <td>2</td>\n",
       "      <td>Fatal</td>\n",
       "      <td>1977</td>\n",
       "      <td>1895</td>\n",
       "      <td>3.9</td>\n",
       "      <td>33013</td>\n",
       "      <td>67.3</td>\n",
       "      <td>14154</td>\n",
       "      <td>28.8</td>\n",
       "      <td>49062</td>\n",
       "      <td>100</td>\n",
       "    </tr>\n",
       "    <tr>\n",
       "      <td>3</td>\n",
       "      <td>Fatal</td>\n",
       "      <td>1978</td>\n",
       "      <td>1878</td>\n",
       "      <td>3.6</td>\n",
       "      <td>37610</td>\n",
       "      <td>72.3</td>\n",
       "      <td>12510</td>\n",
       "      <td>24.1</td>\n",
       "      <td>51998</td>\n",
       "      <td>100</td>\n",
       "    </tr>\n",
       "    <tr>\n",
       "      <td>4</td>\n",
       "      <td>Fatal</td>\n",
       "      <td>1979</td>\n",
       "      <td>1680</td>\n",
       "      <td>3.2</td>\n",
       "      <td>38326</td>\n",
       "      <td>73.5</td>\n",
       "      <td>12123</td>\n",
       "      <td>23.3</td>\n",
       "      <td>52129</td>\n",
       "      <td>100</td>\n",
       "    </tr>\n",
       "  </tbody>\n",
       "</table>\n",
       "</div>"
      ],
      "text/plain": [
       "  Crash Severity  Year   Restrained Number  Restrained Percent  \\\n",
       "0          Fatal  1975                2580                 5.6   \n",
       "1          Fatal  1976                2059                 4.5   \n",
       "2          Fatal  1977                1895                 3.9   \n",
       "3          Fatal  1978                1878                 3.6   \n",
       "4          Fatal  1979                1680                 3.2   \n",
       "\n",
       "   Unrestrained Number  Unrestrained Percent  Unknown Number  Unknown Percent  \\\n",
       "0                29713                  64.3           13931             30.1   \n",
       "1                29908                  64.7           14239             30.8   \n",
       "2                33013                  67.3           14154             28.8   \n",
       "3                37610                  72.3           12510             24.1   \n",
       "4                38326                  73.5           12123             23.3   \n",
       "\n",
       "   Total Number  Percent  \n",
       "0         46224      100  \n",
       "1         46206      100  \n",
       "2         49062      100  \n",
       "3         51998      100  \n",
       "4         52129      100  "
      ]
     },
     "execution_count": 24,
     "metadata": {},
     "output_type": "execute_result"
    }
   ],
   "source": [
    "restraint_use.head()"
   ]
  },
  {
   "cell_type": "code",
   "execution_count": 25,
   "metadata": {},
   "outputs": [],
   "source": [
    "ru_fatal = restraint_use[restraint_use[\"Crash Severity\"] == \"Fatal\"].copy()"
   ]
  },
  {
   "cell_type": "code",
   "execution_count": 26,
   "metadata": {},
   "outputs": [
    {
     "data": {
      "image/png": "[encoded data removed]",
      "text/plain": [
       "<Figure size 1440x720 with 1 Axes>"
      ]
     },
     "metadata": {
      "needs_background": "light"
     },
     "output_type": "display_data"
    }
   ],
   "source": [
    "x = []\n",
    "for i in range(1975, 2020,1):\n",
    "    x.append(i)\n",
    "X_axis = np.arange(len(ru_fatal))  \n",
    "# plt.bar(X_axis - 0.2, ru_fatal[\"Restrained Number\"], 0.4, label = 'Restrained')\n",
    "# plt.bar(X_axis + 0.2, ru_fatal[\"Unrestrained Number\"], 0.4, label = 'Unrestrained')\n",
    "  \n",
    "# plt.xticks(X_axis, x)\n",
    "# plt.xlabel(\"Groups\")\n",
    "# plt.ylabel(\"Number of Students\")\n",
    "# plt.title(\"Number of Students in each group\")\n",
    "# plt.legend()\n",
    "# plt.show()\n",
    "# plt.figure(2, figsize=(10,10))\n",
    "plt.rcParams['figure.figsize'] = [20, 10]\n",
    "ru_fatal.plot(x=\"Year\", y=[\" Restrained Number\", \"Unrestrained Number\"], kind=\"bar\")\n",
    "plt.show()\n",
    "# plt.figure(1, figsize=(20,10))\n",
    "# plt.xticks(x)"
   ]
  },
  {
   "cell_type": "code",
   "execution_count": null,
   "metadata": {},
   "outputs": [],
   "source": []
  }
 ],
 "metadata": {
  "kernelspec": {
   "display_name": "Python 3",
   "language": "python",
   "name": "python3"
  },
  "language_info": {
   "codemirror_mode": {
    "name": "ipython",
    "version": 3
   },
   "file_extension": ".py",
   "mimetype": "text/x-python",
   "name": "python",
   "nbconvert_exporter": "python",
   "pygments_lexer": "ipython3",
   "version": "3.7.4"
  }
 },
 "nbformat": 4,
 "nbformat_minor": 4
}
